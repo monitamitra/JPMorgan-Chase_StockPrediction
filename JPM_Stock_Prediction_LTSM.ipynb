{
  "nbformat": 4,
  "nbformat_minor": 0,
  "metadata": {
    "colab": {
      "provenance": [],
      "mount_file_id": "1odFTq4Ty_tlES5HG4vOUsyEt88kdHzqa",
      "authorship_tag": "ABX9TyPbPz2ANKJlW0Npndf9Fuef",
      "include_colab_link": true
    },
    "kernelspec": {
      "name": "python3",
      "display_name": "Python 3"
    },
    "language_info": {
      "name": "python"
    }
  },
  "cells": [
    {
      "cell_type": "markdown",
      "metadata": {
        "id": "view-in-github",
        "colab_type": "text"
      },
      "source": [
        "<a href=\"https://colab.research.google.com/github/monitamitra/JPMorgan-Chase_StockPrediction/blob/main/JPM_Stock_Prediction_LTSM.ipynb\" target=\"_parent\"><img src=\"https://colab.research.google.com/assets/colab-badge.svg\" alt=\"Open In Colab\"/></a>"
      ]
    },
    {
      "cell_type": "markdown",
      "source": [
        "# **Import Packages/Modules**"
      ],
      "metadata": {
        "id": "zQSf-hOAjI_k"
      }
    },
    {
      "cell_type": "code",
      "execution_count": 51,
      "metadata": {
        "id": "YulVtvyJihKi"
      },
      "outputs": [],
      "source": [
        "import numpy as np\n",
        "import pandas as pd\n",
        "import matplotlib.pyplot as plt\n",
        "import pandas as pd\n",
        "from sklearn.preprocessing import MinMaxScaler\n",
        "from tensorflow.keras.models import Sequential\n",
        "from tensorflow.keras.layers import Dense\n",
        "from tensorflow.keras.layers import LSTM\n",
        "from tensorflow.keras.layers import Dropout\n",
        "from google.colab import files"
      ]
    },
    {
      "cell_type": "markdown",
      "source": [
        "# **Load the Dataset**"
      ],
      "metadata": {
        "id": "5L9sbJQL6pc5"
      }
    },
    {
      "cell_type": "code",
      "source": [
        "training_data = pd.read_csv(\"/content/drive/MyDrive/JPM_Training.csv\")\n",
        "training_data"
      ],
      "metadata": {
        "id": "-NhjUOUS6vMx"
      },
      "execution_count": null,
      "outputs": []
    },
    {
      "cell_type": "markdown",
      "source": [
        "# **Transform Data**"
      ],
      "metadata": {
        "id": "9Weezw2K7Yqi"
      }
    },
    {
      "cell_type": "markdown",
      "source": [
        "**Change Type of Training Set**"
      ],
      "metadata": {
        "id": "KNGYfDgB822D"
      }
    },
    {
      "cell_type": "code",
      "source": [
        "# don't care about volume (remove last column from dataframe)\n",
        "# converted to numpy array as keras only accepts numpy arrays\n",
        "training_data = training_data.iloc[:, 1].values"
      ],
      "metadata": {
        "id": "JUWslCed7cWq"
      },
      "execution_count": null,
      "outputs": []
    },
    {
      "cell_type": "markdown",
      "source": [
        "**Feature Scaling the Dataset**"
      ],
      "metadata": {
        "id": "GcGkaHdA8rXY"
      }
    },
    {
      "cell_type": "code",
      "source": [
        "# normalization\n",
        "# makes each feature on a similar scale\n",
        "scaler = MinMaxScaler() # => scales every observation to be between 0 and 1\n",
        "training_data = scaler.fit_transform(training_data.reshape(-1, 1)) # => actually reshapes the data"
      ],
      "metadata": {
        "id": "S5MvaS7o80k4"
      },
      "execution_count": null,
      "outputs": []
    },
    {
      "cell_type": "markdown",
      "source": [
        "# **Setting the Number of Timesteps**"
      ],
      "metadata": {
        "id": "4KdIADbl9v7b"
      }
    },
    {
      "cell_type": "markdown",
      "source": [
        "**Initialize Data Structures to Hold Observations**"
      ],
      "metadata": {
        "id": "VN-aMKlW_Tfl"
      }
    },
    {
      "cell_type": "code",
      "source": [
        "# timesteps = how many previous observations should be considered when model makes a prediction on the current observation\n",
        "# set to 40 -> 20 stock days in a month so will use previous 2 months of stock data points to predict current stock\n",
        "\n",
        "x_training_data = [] # => contains last 40 stock price observations in dataset\n",
        "y_training_data = [] # => contains stock price for next trading day (data point that neural network is trying to predict)\n",
        "\n",
        "# loops from index 40 to end of data\n",
        "for i in range(40, len(training_data)):\n",
        "    # appends the 40 preceding stock prices\n",
        "    x_training_data.append(training_data[i-40:i, 0])\n",
        "    # appends next days stock price\n",
        "    y_training_data.append(training_data[i, 0])\n",
        "\n"
      ],
      "metadata": {
        "id": "yTAo8Oje91sX"
      },
      "execution_count": null,
      "outputs": []
    },
    {
      "cell_type": "markdown",
      "source": [
        "**Transform Datasets into Numpy Arrays**"
      ],
      "metadata": {
        "id": "7qODswOi_b0k"
      }
    },
    {
      "cell_type": "code",
      "source": [
        "# keras only accepts numpy arrays so need to transform datasets into numpy arrays\n",
        "x_training_data = np.array(x_training_data)\n",
        "y_training_data = np.array(y_training_data)"
      ],
      "metadata": {
        "id": "iqRMEqOF_k9v"
      },
      "execution_count": null,
      "outputs": []
    },
    {
      "cell_type": "markdown",
      "source": [
        "**Transform Preceeding Observations Dataset**"
      ],
      "metadata": {
        "id": "E98BtGkeAUEH"
      }
    },
    {
      "cell_type": "code",
      "source": [
        "# tensorflow accepts data in a very specific format\n",
        "x_training_data = np.reshape(x_training_data, (x_training_data.shape[0], x_training_data.shape[1], 1))"
      ],
      "metadata": {
        "id": "LUtQ0n8ZAomw"
      },
      "execution_count": null,
      "outputs": []
    },
    {
      "cell_type": "markdown",
      "source": [
        "# **Building the Neural Network**"
      ],
      "metadata": {
        "id": "NKZkE93sA4Hg"
      }
    },
    {
      "cell_type": "code",
      "source": [
        "rnn = Sequential() # => adds sequential layers over time to network"
      ],
      "metadata": {
        "id": "vkBe4MpEBHz7"
      },
      "execution_count": null,
      "outputs": []
    },
    {
      "cell_type": "markdown",
      "source": [
        "**Adding the First LTSM Layer**"
      ],
      "metadata": {
        "id": "4_laWNruBd5k"
      }
    },
    {
      "cell_type": "code",
      "source": [
        "# units => number of neurons in network, increases dimensionality\n",
        "# return_sequences => boolean for wheather more layers are going to be added\n",
        "# input_shape => number of timesteps and number of predictors in training data (only 1 predictor => stock price)\n",
        "rnn.add(LSTM(units = 45, return_sequences = True, input_shape = (x_training_data.shape[1], 1)))"
      ],
      "metadata": {
        "id": "fO41PjUgBh9j"
      },
      "execution_count": null,
      "outputs": []
    },
    {
      "cell_type": "markdown",
      "source": [
        "**Dropout Regularization**"
      ],
      "metadata": {
        "id": "vsUn0OESDcVm"
      }
    },
    {
      "cell_type": "code",
      "source": [
        "# avoids overfitting when training neural networks\n",
        "# randomly excludes certain layer dropouts during the training stage\n",
        "rnn.add(Dropout(0.2)) # => convention dropout rate = 20%"
      ],
      "metadata": {
        "id": "DCsyt1rPDi-2"
      },
      "execution_count": null,
      "outputs": []
    },
    {
      "cell_type": "markdown",
      "source": [
        "**Adding More Layers & Dropout**"
      ],
      "metadata": {
        "id": "PF-BVHnVEQ6k"
      }
    },
    {
      "cell_type": "code",
      "source": [
        "# Layer 2\n",
        "rnn.add(LSTM(units = 45, return_sequences = True))\n",
        "rnn.add(Dropout(0.2))\n",
        "\n",
        "# Layer 3\n",
        "rnn.add(LSTM(units = 45, return_sequences = True))\n",
        "rnn.add(Dropout(0.2))\n",
        "\n",
        "# Layer 4\n",
        "rnn.add(LSTM(units = 45))\n",
        "rnn.add(Dropout(0.2))"
      ],
      "metadata": {
        "id": "ZwhBcdhKEVWP"
      },
      "execution_count": null,
      "outputs": []
    },
    {
      "cell_type": "markdown",
      "source": [
        "**Adding Output Layer**"
      ],
      "metadata": {
        "id": "q7iGzqWTEvRr"
      }
    },
    {
      "cell_type": "code",
      "source": [
        "# only want to output the next day's stock price (single value) => units = 1\n",
        "rnn.add(Dense(units = 1))"
      ],
      "metadata": {
        "id": "HTHFi7JCEzBn"
      },
      "execution_count": null,
      "outputs": []
    },
    {
      "cell_type": "markdown",
      "source": [
        "# **Compiling the Model**"
      ],
      "metadata": {
        "id": "hWuNs-NgFa8U"
      }
    },
    {
      "cell_type": "code",
      "source": [
        "# using continuous variable\n",
        "rnn.compile(optimizer = \"adam\", loss = \"mean_squared_error\")"
      ],
      "metadata": {
        "id": "kWW3qApIFeSt"
      },
      "execution_count": null,
      "outputs": []
    },
    {
      "cell_type": "markdown",
      "source": [
        "# **Fitting the Model on the Training Set**"
      ],
      "metadata": {
        "id": "6hgFRF9JGx60"
      }
    },
    {
      "cell_type": "code",
      "source": [
        "# epochs => number of iterations the network should be trained on\n",
        "# batch size => size of batches that network trains during each epoch\n",
        "rnn.fit(x_training_data, y_training_data, epochs = 100, batch_size = 32)"
      ],
      "metadata": {
        "id": "Oy0d5DVWG4pt"
      },
      "execution_count": null,
      "outputs": []
    },
    {
      "cell_type": "markdown",
      "source": [
        "# **Preprocessing Data for Predictions**"
      ],
      "metadata": {
        "id": "XWUvl4AQI-IE"
      }
    },
    {
      "cell_type": "markdown",
      "source": [
        "**Transforming the Test Dataset**"
      ],
      "metadata": {
        "id": "LmrzqF9LJpbN"
      }
    },
    {
      "cell_type": "code",
      "source": [
        "test_data = pd.read_csv(\"/content/drive/MyDrive/JPM_Testing.csv\")\n",
        "test_data = test_data.iloc[:, 1].values"
      ],
      "metadata": {
        "id": "e40C02aZJkmq"
      },
      "execution_count": 30,
      "outputs": []
    },
    {
      "cell_type": "code",
      "source": [
        "plt.plot(test_data)"
      ],
      "metadata": {
        "colab": {
          "base_uri": "https://localhost:8080/",
          "height": 447
        },
        "id": "EPcoVMo0MnVh",
        "outputId": "2d39b9ac-5d57-417d-bdd2-b56ab9c963fb"
      },
      "execution_count": 31,
      "outputs": [
        {
          "output_type": "execute_result",
          "data": {
            "text/plain": [
              "[<matplotlib.lines.Line2D at 0x79128f8a9060>]"
            ]
          },
          "metadata": {},
          "execution_count": 31
        },
        {
          "output_type": "display_data",
          "data": {
            "text/plain": [
              "<Figure size 640x480 with 1 Axes>"
            ],
            "image/png": "[encoded data removed]"
          },
          "metadata": {}
        }
      ]
    },
    {
      "cell_type": "code",
      "source": [
        "# need original data because data has already been transformed\n",
        "# to make predictions, 40 preceeding stock data points could be in training set and/or testing set\n",
        "unscaled_x_training_data = pd.read_csv(\"/content/drive/MyDrive/JPM_Training.csv\")\n",
        "unscaled_test_data = pd.read_csv(\"/content/drive/MyDrive/JPM_Testing.csv\")\n",
        "all_data = pd.concat((unscaled_x_training_data['Open'], unscaled_test_data['Open']), axis = 0)"
      ],
      "metadata": {
        "id": "QZq_PHcoM9Wj"
      },
      "execution_count": 33,
      "outputs": []
    },
    {
      "cell_type": "code",
      "source": [
        "# need to create an array of all stock prices from November 2023 and 40 trading days prior\n",
        "x_test_data = all_data[len(all_data) - len(test_data) - 40:].values\n",
        "x_test_data = np.reshape(x_test_data, (-1, 1))"
      ],
      "metadata": {
        "id": "xq9OQZcyNmSf"
      },
      "execution_count": 34,
      "outputs": []
    },
    {
      "cell_type": "markdown",
      "source": [
        "**Scaling the Test Dataset**"
      ],
      "metadata": {
        "id": "heSuxXgYOEvl"
      }
    },
    {
      "cell_type": "code",
      "source": [
        "# want to transform test data according to fit generated from entire training data set\n",
        "# ensures transformation applied to test data is similar to training data => necessary for predictions to be accurate\n",
        "x_test_data = scaler.transform(x_test_data)"
      ],
      "metadata": {
        "id": "NM88yAM6OI7q"
      },
      "execution_count": 35,
      "outputs": []
    },
    {
      "cell_type": "markdown",
      "source": [
        "**Grouping of Test Dataset**"
      ],
      "metadata": {
        "id": "S6hRFKuXOwrR"
      }
    },
    {
      "cell_type": "code",
      "source": [
        "# group arrays to where each entry = date in November and contains stock prices of 40 previous trading days\n",
        "final_x_test_data = []\n",
        "for i in range(40, len(x_test_data)):\n",
        "    final_x_test_data.append(x_test_data[i-40:i, 0])\n",
        "\n",
        "final_x_test_data = np.array(final_x_test_data)\n",
        "\n",
        "# reshape test data to tensorflow's liking\n",
        "final_x_test_data = np.reshape(final_x_test_data, (final_x_test_data.shape[0], final_x_test_data.shape[1], 1))"
      ],
      "metadata": {
        "id": "7kGQbQrqO0aE"
      },
      "execution_count": 36,
      "outputs": []
    },
    {
      "cell_type": "markdown",
      "source": [
        "# **Making Predictions With the Model**"
      ],
      "metadata": {
        "id": "lfJXSetAPsdU"
      }
    },
    {
      "cell_type": "markdown",
      "source": [
        "**Scaled Version**"
      ],
      "metadata": {
        "id": "LIjdFp6WQIK2"
      }
    },
    {
      "cell_type": "code",
      "source": [
        "predictions = rnn.predict(final_x_test_data)\n",
        "plt.clf() # => clears canvas\n",
        "plt.plot(predictions)"
      ],
      "metadata": {
        "colab": {
          "base_uri": "https://localhost:8080/",
          "height": 465
        },
        "id": "-2IJ5tHCPys7",
        "outputId": "569076ca-c5da-4211-abf2-8beced1f5dfa"
      },
      "execution_count": 37,
      "outputs": [
        {
          "output_type": "stream",
          "name": "stdout",
          "text": [
            "1/1 [==============================] - 2s 2s/step\n"
          ]
        },
        {
          "output_type": "execute_result",
          "data": {
            "text/plain": [
              "[<matplotlib.lines.Line2D at 0x79129381c850>]"
            ]
          },
          "metadata": {},
          "execution_count": 37
        },
        {
          "output_type": "display_data",
          "data": {
            "text/plain": [
              "<Figure size 640x480 with 1 Axes>"
            ],
            "image/png": "[encoded data removed]"
          },
          "metadata": {}
        }
      ]
    },
    {
      "cell_type": "markdown",
      "source": [
        "**Actual (Unscaled Version)**"
      ],
      "metadata": {
        "id": "zJQWTBz5QL8s"
      }
    },
    {
      "cell_type": "code",
      "source": [
        "unscaled_predictions = scaler.inverse_transform(predictions)\n",
        "plt.clf()\n",
        "plt.plot(unscaled_predictions)"
      ],
      "metadata": {
        "colab": {
          "base_uri": "https://localhost:8080/",
          "height": 451
        },
        "id": "1pXncNVTQTz3",
        "outputId": "7a8e1742-32ea-45f4-b3d0-904b586b14f4"
      },
      "execution_count": 38,
      "outputs": [
        {
          "output_type": "execute_result",
          "data": {
            "text/plain": [
              "[<matplotlib.lines.Line2D at 0x791293867fa0>]"
            ]
          },
          "metadata": {},
          "execution_count": 38
        },
        {
          "output_type": "display_data",
          "data": {
            "text/plain": [
              "<Figure size 640x480 with 1 Axes>"
            ],
            "image/png": "[encoded data removed]"
          },
          "metadata": {}
        }
      ]
    },
    {
      "cell_type": "markdown",
      "source": [
        "**Comparison**"
      ],
      "metadata": {
        "id": "WuFObuhpQaA3"
      }
    },
    {
      "cell_type": "code",
      "source": [
        "plt.plot(unscaled_predictions, color = '#135485', label = \"Predictions\")\n",
        "plt.plot(test_data, color = 'black', label = \"Real Data\")\n",
        "plt.title('JP Morgan & Chase Co. Stock Price Predictions')"
      ],
      "metadata": {
        "colab": {
          "base_uri": "https://localhost:8080/",
          "height": 469
        },
        "id": "jE28P0TRQdfr",
        "outputId": "ea26d08d-6e49-4e1d-f4ed-8f8ce9d028d7"
      },
      "execution_count": 39,
      "outputs": [
        {
          "output_type": "execute_result",
          "data": {
            "text/plain": [
              "Text(0.5, 1.0, 'JP Morgan & Chase Co. Stock Price Predictions')"
            ]
          },
          "metadata": {},
          "execution_count": 39
        },
        {
          "output_type": "display_data",
          "data": {
            "text/plain": [
              "<Figure size 640x480 with 1 Axes>"
            ],
            "image/png": "[encoded data removed]"
          },
          "metadata": {}
        }
      ]
    },
    {
      "cell_type": "markdown",
      "source": [
        "# **Save the Model**"
      ],
      "metadata": {
        "id": "iBeFq-wyR2_U"
      }
    },
    {
      "cell_type": "code",
      "source": [
        "rnn.save(\"Stock_Pred_LSTM.h5\")\n",
        "files.download(\"Stock_Pred_LSTM.h5\")"
      ],
      "metadata": {
        "colab": {
          "base_uri": "https://localhost:8080/",
          "height": 72
        },
        "id": "Yl44KfiDfwK9",
        "outputId": "ed58b1f7-08be-468e-fa17-9c7835f4f14c"
      },
      "execution_count": 52,
      "outputs": [
        {
          "output_type": "stream",
          "name": "stderr",
          "text": [
            "/usr/local/lib/python3.10/dist-packages/keras/src/engine/training.py:3079: UserWarning: You are saving your model as an HDF5 file via `model.save()`. This file format is considered legacy. We recommend using instead the native Keras format, e.g. `model.save('my_model.keras')`.\n",
            "  saving_api.save_model(\n"
          ]
        },
        {
          "output_type": "display_data",
          "data": {
            "text/plain": [
              "<IPython.core.display.Javascript object>"
            ],
            "application/javascript": [
              "\n",
              "    async function download(id, filename, size) {\n",
              "      if (!google.colab.kernel.accessAllowed) {\n",
              "        return;\n",
              "      }\n",
              "      const div = document.createElement('div');\n",
              "      const label = document.createElement('label');\n",
              "      label.textContent = `Downloading \"${filename}\": `;\n",
              "      div.appendChild(label);\n",
              "      const progress = document.createElement('progress');\n",
              "      progress.max = size;\n",
              "      div.appendChild(progress);\n",
              "      document.body.appendChild(div);\n",
              "\n",
              "      const buffers = [];\n",
              "      let downloaded = 0;\n",
              "\n",
              "      const channel = await google.colab.kernel.comms.open(id);\n",
              "      // Send a message to notify the kernel that we're ready.\n",
              "      channel.send({})\n",
              "\n",
              "      for await (const message of channel.messages) {\n",
              "        // Send a message to notify the kernel that we're ready.\n",
              "        channel.send({})\n",
              "        if (message.buffers) {\n",
              "          for (const buffer of message.buffers) {\n",
              "            buffers.push(buffer);\n",
              "            downloaded += buffer.byteLength;\n",
              "            progress.value = downloaded;\n",
              "          }\n",
              "        }\n",
              "      }\n",
              "      const blob = new Blob(buffers, {type: 'application/binary'});\n",
              "      const a = document.createElement('a');\n",
              "      a.href = window.URL.createObjectURL(blob);\n",
              "      a.download = filename;\n",
              "      div.appendChild(a);\n",
              "      a.click();\n",
              "      div.remove();\n",
              "    }\n",
              "  "
            ]
          },
          "metadata": {}
        },
        {
          "output_type": "display_data",
          "data": {
            "text/plain": [
              "<IPython.core.display.Javascript object>"
            ],
            "application/javascript": [
              "download(\"download_d7c07f7d-dc79-47ff-9de7-3e05c078d3e3\", \"Stock_Pred_LSTM.h5\", 766904)"
            ]
          },
          "metadata": {}
        }
      ]
    }
  ]
}